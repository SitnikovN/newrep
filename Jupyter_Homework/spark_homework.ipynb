{
 "cells": [
  {
   "cell_type": "code",
   "execution_count": 1,
   "metadata": {},
   "outputs": [
    {
     "name": "stdout",
     "output_type": "stream",
     "text": [
      "Top 3 hotels between couples:\n",
      " [Row(hotel='2_50_628', count=1190143), Row(hotel='2_50_675', count=1007502), Row(hotel='4_8_110', count=588213)] \n",
      "---------------\n",
      "Most popular country where hotels are booked and searched from the same country is:\n",
      " [Row(country='68', count=1619)] \n",
      "---------------\n",
      "Top 3 non-booked hotels between couples with children:\n",
      " [Row(hotel='2_50_682', count=275229), Row(hotel='2_50_675', count=191032), Row(hotel='2_50_628', count=150196)]\n"
     ]
    }
   ],
   "source": [
    "from pyspark.sql import SparkSession\n",
    "from pyspark.sql.functions import concat_ws\n",
    "\n",
    "def top1_country_booked_hotel_same_loc(df):\n",
    "   df_agg = df.filter('is_booking = 1 and user_location_country = hotel_country').\\\n",
    "        groupBy('hotel_country').\\\n",
    "        count().\\\n",
    "        orderBy('count',ascending=0).\\\n",
    "        limit(1).\\\n",
    "        withColumnRenamed('hotel_country','country')\n",
    "   return df_agg\n",
    "\n",
    "def top3_hotels_between_couples(df):\n",
    "    df_agg = df.withColumn('hotel',concat_ws('_','hotel_continent','hotel_country','hotel_market')).\\\n",
    "        filter('srch_adults_cnt = 2').\\\n",
    "        groupBy('hotel').\\\n",
    "        count().\\\n",
    "        orderBy('count',ascending=0).\\\n",
    "        limit(3)\n",
    "    return df_agg\n",
    "\n",
    "def top3_srch_hotel_between_couples_with_chldrn(df):\n",
    "    df_agg = df.withColumn('hotel',concat_ws('_','hotel_continent','hotel_country','hotel_market')).\\\n",
    "         filter('srch_adults_cnt = 2  and srch_children_cnt > 0 and is_booking = 0').\\\n",
    "           groupBy('hotel').\\\n",
    "           count().\\\n",
    "           orderBy('count',ascending=0).\\\n",
    "           limit(3)\n",
    "    return  df_agg\n",
    "\n",
    "\n",
    "if __name__ == \"__main__\":\n",
    "    spark = SparkSession.builder.master('local').appName('test').getOrCreate()\n",
    "    df = spark.read.load(\n",
    "        'hdfs://test-bigdata.us-central1-a.c.bigdatalearn-274318.internal/user/input_files/train/train.csv',\n",
    "        format='csv', sep=',', header='true')\n",
    "    print('Top 3 hotels between couples:\\n',\n",
    "            top3_hotels_between_couples(df).collect(),'\\n---------------')\n",
    "    print('Most popular country where hotels are booked and searched from the same country is:\\n',\n",
    "            top1_country_booked_hotel_same_loc(df).collect(),'\\n---------------')\n",
    "    print('Top 3 non-booked hotels between couples with children:\\n',\n",
    "            top3_srch_hotel_between_couples_with_chldrn(df).collect())\n",
    "\n"
   ]
  },
  {
   "cell_type": "code",
   "execution_count": null,
   "metadata": {},
   "outputs": [],
   "source": []
  }
 ],
 "metadata": {
  "kernelspec": {
   "display_name": "Python 3",
   "language": "python",
   "name": "python3"
  },
  "language_info": {
   "codemirror_mode": {
    "name": "ipython",
    "version": 3
   },
   "file_extension": ".py",
   "mimetype": "text/x-python",
   "name": "python",
   "nbconvert_exporter": "python",
   "pygments_lexer": "ipython3",
   "version": "3.8.4"
  }
 },
 "nbformat": 4,
 "nbformat_minor": 4
}
